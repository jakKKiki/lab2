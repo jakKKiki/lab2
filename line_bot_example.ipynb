{
  "nbformat": 4,
  "nbformat_minor": 0,
  "metadata": {
    "colab": {
      "provenance": []
    },
    "kernelspec": {
      "name": "python3",
      "display_name": "Python 3"
    },
    "language_info": {
      "name": "python"
    }
  },
  "cells": [
    {
      "cell_type": "markdown",
      "source": [
        "token : q3D+yarl7RWbNx9w5GccNE405MY3PQLeW9mL52roBDupSK0Q7ZWUdly21XU2PsdTOXrEXf7GnPHyGyz5bIzsM4R7zbvvuG8GOyz69FUedB/Wyn2X+EtsMe4K9SUnU/Nf9Eoz3vfDxzXZZrXaimUWLAdB04t89/1O/w1cDnyilFU="
      ],
      "metadata": {
        "id": "hkonyNYysu3u"
      }
    },
    {
      "cell_type": "markdown",
      "source": [
        "secret : dc77d38f2b719db16ccff3434f674945"
      ],
      "metadata": {
        "id": "JFA0be6Ssx6-"
      }
    },
    {
      "cell_type": "markdown",
      "source": [
        "Your Authtoken(ngrok) : 2oXpvC6DlHXfz2L25pJoJTLFDpe_3CfL75t2pgmmFjbQamRhn\n"
      ],
      "metadata": {
        "id": "DBxsPIo8NRLd"
      }
    },
    {
      "cell_type": "markdown",
      "source": [
        "# **安裝必要的套件**"
      ],
      "metadata": {
        "id": "b1BIPNeh9XhK"
      }
    },
    {
      "cell_type": "code",
      "source": [
        "!pip install line-bot-sdk\n",
        "!pip install flask\n",
        "!pip install pyngrok"
      ],
      "metadata": {
        "id": "pJ866iOD9UJM"
      },
      "execution_count": null,
      "outputs": []
    },
    {
      "cell_type": "markdown",
      "source": [
        "# **找到網址**"
      ],
      "metadata": {
        "id": "734o5Qkj9aY6"
      }
    },
    {
      "cell_type": "code",
      "source": [
        "from pyngrok import ngrok\n",
        "# 使用您的 authtoken 進行驗證\n",
        "!ngrok config add-authtoken 2oXpvC6DlHXfz2L25pJoJTLFDpe_3CfL75t2pgmmFjbQamRhn\n",
        "# 繼續啟動 ngrok 和 Flask 應用程式\n",
        "public_url = ngrok.connect(5000)\n",
        "print(\"Public URL:\", public_url)"
      ],
      "metadata": {
        "colab": {
          "base_uri": "https://localhost:8080/"
        },
        "id": "JSgEHqatNZ9L",
        "outputId": "da171551-8ec0-420d-9332-6705851f9d37"
      },
      "execution_count": 5,
      "outputs": [
        {
          "output_type": "stream",
          "name": "stdout",
          "text": [
            "Authtoken saved to configuration file: /root/.config/ngrok/ngrok.yml\n",
            "Public URL: NgrokTunnel: \"https://35d9-35-194-184-15.ngrok-free.app\" -> \"http://localhost:5000\"\n"
          ]
        }
      ]
    },
    {
      "cell_type": "markdown",
      "source": [
        "# **認識否連線**"
      ],
      "metadata": {
        "id": "bgjqfDZO9e9Q"
      }
    },
    {
      "cell_type": "code",
      "source": [
        "from flask import Flask, request\n",
        "from pyngrok import ngrok\n",
        "import json\n",
        "\n",
        "app = Flask(__name__)\n",
        "\n",
        "@app.route(\"/\", methods=['POST'])\n",
        "def linebot():\n",
        "    body = request.get_data(as_text=True)\n",
        "    print(\"Received:\", body)\n",
        "    return 'OK'\n",
        "\n",
        "# 啟動 Flask 應用程式在 5000 端口\n",
        "app_port = 5000\n",
        "ngrok_tunnel = ngrok.connect(app_port)\n",
        "print(\"Public URL:\", 'https://35d9-35-194-184-15.ngrok-free.app')  # 這是您可以用來作為 Webhook 的公開 URL\n",
        "app.run(port=app_port)"
      ],
      "metadata": {
        "id": "blAHJe9D73MU"
      },
      "execution_count": null,
      "outputs": []
    },
    {
      "cell_type": "markdown",
      "source": [
        "# **測試**"
      ],
      "metadata": {
        "id": "zCRiyEux9lEX"
      }
    },
    {
      "cell_type": "markdown",
      "source": [
        "base code (回覆相同的訊息)"
      ],
      "metadata": {
        "id": "lJgaQj_7DhzV"
      }
    },
    {
      "cell_type": "code",
      "source": [
        "from flask import Flask, request, abort\n",
        "from linebot import LineBotApi, WebhookHandler\n",
        "from linebot.exceptions import InvalidSignatureError\n",
        "from linebot.models import MessageEvent, TextMessage, TextSendMessage\n",
        "from pyngrok import ngrok\n",
        "\n",
        "# 建立 Flask 應用程式\n",
        "app = Flask(__name__)\n",
        "\n",
        "# 設置你的 Channel Access Token 和 Channel Secret\n",
        "CHANNEL_ACCESS_TOKEN = '你的 Channel Access Token'\n",
        "CHANNEL_SECRET = '你的 Channel Secret'\n",
        "line_bot_api = LineBotApi(CHANNEL_ACCESS_TOKEN)\n",
        "handler = WebhookHandler(CHANNEL_SECRET)\n",
        "\n",
        "# 設置 Webhook 處理函數\n",
        "@app.route(\"/callback\", methods=['POST'])\n",
        "def callback():\n",
        "    # 獲取 HTTP 請求中的 X-Line-Signature 標頭\n",
        "    signature = request.headers['X-Line-Signature']\n",
        "    # 將請求內容轉為文本\n",
        "    body = request.get_data(as_text=True)\n",
        "    app.logger.info(\"Request body: \" + body)\n",
        "\n",
        "    # 驗證請求的合法性\n",
        "    try:\n",
        "        handler.handle(body, signature)\n",
        "    except InvalidSignatureError:\n",
        "        abort(400)\n",
        "\n",
        "    return 'OK'\n",
        "\n",
        "# 設置接收訊息的事件\n",
        "@handler.add(MessageEvent, message=TextMessage)\n",
        "def handle_message(event):\n",
        "    # 回覆相同的訊息\n",
        "    message = TextSendMessage(text=event.message.text)\n",
        "    line_bot_api.reply_message(event.reply_token, message)\n",
        "\n",
        "if __name__ == \"__main__\":\n",
        "    app.run(port=5000)"
      ],
      "metadata": {
        "id": "Hl0wLnQZ7wC7"
      },
      "execution_count": null,
      "outputs": []
    },
    {
      "cell_type": "markdown",
      "source": [
        "確認是否為文字(TextSendMessage發送純文字)"
      ],
      "metadata": {
        "id": "98V3Aj5bDn5u"
      }
    },
    {
      "cell_type": "code",
      "source": [
        "import json\n",
        "from flask import Flask, request, abort\n",
        "from linebot import LineBotApi, WebhookHandler\n",
        "from linebot.exceptions import InvalidSignatureError\n",
        "from linebot.models import MessageEvent, TextMessage, TextSendMessage\n",
        "from pyngrok import ngrok\n",
        "\n",
        "app = Flask(__name__)\n",
        "\n",
        "access_token = 'YOUR_CHANNEL_ACCESS_TOKEN'\n",
        "secret = 'YOUR_CHANNEL_SECRET'\n",
        "line_bot_api = LineBotApi(access_token)  # 使用新的 LineBotApi\n",
        "handler = WebhookHandler(secret)         # 使用新的 WebhookHandler\n",
        "\n",
        "@app.route(\"/\", methods=['POST'])\n",
        "def linebot():\n",
        "    body = request.get_data(as_text=True)\n",
        "    signature = request.headers.get('X-Line-Signature')\n",
        "\n",
        "    if not signature:\n",
        "        abort(400)  # 若沒有簽章，直接回傳 400 錯誤\n",
        "\n",
        "    try:\n",
        "        handler.handle(body, signature)  # 綁定訊息回傳的相關資訊\n",
        "        json_data = json.loads(body)\n",
        "\n",
        "        # 取得回傳訊息的 Token 和訊息類型\n",
        "        tk = json_data['events'][0]['replyToken']\n",
        "        msg_type = json_data['events'][0]['message']['type']\n",
        "\n",
        "        # 回傳訊息的內容\n",
        "        if msg_type == 'text':\n",
        "            msg = json_data['events'][0]['message']['text']\n",
        "            reply = f\"收到訊息：{msg}\"\n",
        "        else:\n",
        "            reply = \"你傳的不是文字訊息喔～\"\n",
        "\n",
        "        # 回傳訊息\n",
        "        line_bot_api.reply_message(tk, TextSendMessage(reply))\n",
        "    except InvalidSignatureError:\n",
        "        abort(400)  # 若簽章驗證失敗，回傳 400 錯誤\n",
        "    except Exception as e:\n",
        "        print(f\"Error: {e}\")\n",
        "        abort(500)  # 若其他錯誤發生，回傳 500 錯誤\n",
        "\n",
        "    return 'OK'\n",
        "\n",
        "if __name__ == \"__main__\":\n",
        "    app.run(port=5000)"
      ],
      "metadata": {
        "collapsed": true,
        "id": "AZU76W8kPDz3"
      },
      "execution_count": null,
      "outputs": []
    },
    {
      "cell_type": "markdown",
      "source": [
        "回傳文字(確認user的訊息)"
      ],
      "metadata": {
        "id": "PF_253FTF1Id"
      }
    },
    {
      "cell_type": "code",
      "source": [
        "import random\n",
        "from flask import Flask, request, abort\n",
        "from linebot import LineBotApi, WebhookHandler\n",
        "from linebot.exceptions import InvalidSignatureError\n",
        "from linebot.models import MessageEvent, TextMessage, TextSendMessage\n",
        "from pyngrok import ngrok\n",
        "\n",
        "app = Flask(__name__)\n",
        "\n",
        "CHANNEL_ACCESS_TOKEN = '你的 Channel Access Token'\n",
        "CHANNEL_SECRET = '你的 Channel Secret'\n",
        "\n",
        "line_bot_api = LineBotApi(CHANNEL_ACCESS_TOKEN)\n",
        "handler = WebhookHandler(CHANNEL_SECRET)\n",
        "\n",
        "# 設置 Webhook 處理函數\n",
        "@app.route(\"/callback\", methods=['POST'])\n",
        "def callback():\n",
        "    signature = request.headers['X-Line-Signature']\n",
        "    body = request.get_data(as_text=True)\n",
        "    app.logger.info(\"Request body: \" + body)\n",
        "\n",
        "    try:\n",
        "        handler.handle(body, signature)\n",
        "    except InvalidSignatureError:\n",
        "        abort(400)\n",
        "\n",
        "    return 'OK'\n",
        "\n",
        "# 設置接收訊息的事件\n",
        "@handler.add(MessageEvent, message=TextMessage)\n",
        "def handle_message(event):\n",
        "    user_message = event.message.text\n",
        "    if user_message == \"今天可以吃什麼\":\n",
        "        # 隨機選擇一種餐點\n",
        "        options = [\"漢堡\", \"三明治\", \"吐司\", \"蛋餅\"]\n",
        "        reply_message = random.choice(options)\n",
        "        message = TextSendMessage(text=f\"你可以吃 {reply_message}！\")\n",
        "    else:\n",
        "        # 回覆相同的訊息\n",
        "        message = TextSendMessage(text=user_message)\n",
        "\n",
        "    line_bot_api.reply_message(event.reply_token, message)\n",
        "\n",
        "if __name__ == \"__main__\":\n",
        "    app.run(port=5000)"
      ],
      "metadata": {
        "id": "-Sd91NEz8lTL"
      },
      "execution_count": null,
      "outputs": []
    },
    {
      "cell_type": "markdown",
      "source": [
        "依照時間輸出訊息"
      ],
      "metadata": {
        "id": "bT2GhbdMGLBV"
      }
    },
    {
      "cell_type": "code",
      "source": [
        "from datetime import datetime\n",
        "import random\n",
        "from flask import Flask, request, abort\n",
        "from linebot import LineBotApi, WebhookHandler\n",
        "from linebot.exceptions import InvalidSignatureError\n",
        "from linebot.models import MessageEvent, TextMessage, TextSendMessage\n",
        "from pyngrok import ngrok\n",
        "\n",
        "# 建立 Flask 應用程式\n",
        "app = Flask(__name__)\n",
        "\n",
        "# 設置你的 Channel Access Token 和 Channel Secret\n",
        "CHANNEL_ACCESS_TOKEN = '你的 Channel Access Token'\n",
        "CHANNEL_SECRET = '你的 Channel Secret'\n",
        "\n",
        "line_bot_api = LineBotApi(CHANNEL_ACCESS_TOKEN)\n",
        "handler = WebhookHandler(CHANNEL_SECRET)\n",
        "\n",
        "# 設置 Webhook 處理函數\n",
        "@app.route(\"/callback\", methods=['POST'])\n",
        "def callback():\n",
        "    signature = request.headers['X-Line-Signature']\n",
        "    body = request.get_data(as_text=True)\n",
        "    app.logger.info(\"Request body: \" + body)\n",
        "\n",
        "    try:\n",
        "        handler.handle(body, signature)\n",
        "    except InvalidSignatureError:\n",
        "        abort(400)\n",
        "\n",
        "    return 'OK'\n",
        "\n",
        "# 設置接收訊息的事件\n",
        "@handler.add(MessageEvent, message=TextMessage)\n",
        "def handle_message(event):\n",
        "    user_message = event.message.text\n",
        "    current_hour = datetime.now().hour\n",
        "\n",
        "    # 根據不同的時間回覆相應的訊息\n",
        "    if 6 <= current_hour < 12:\n",
        "        reply_message = \"早安！新的一天開始了，今天要做些什麼好呢？\"\n",
        "    elif 12 <= current_hour < 18:\n",
        "        reply_message = \"午安！要不要喝杯咖啡提神一下？\"\n",
        "    elif 18 <= current_hour < 24:\n",
        "        reply_message = \"晚安！一天快結束了，準備好好休息吧！\"\n",
        "    else:\n",
        "        reply_message = \"深夜了，該好好休息，晚安！\"\n",
        "\n",
        "    message = TextSendMessage(text=reply_message)\n",
        "    line_bot_api.reply_message(event.reply_token, message)\n",
        "\n",
        "if __name__ == \"__main__\":\n",
        "    app.run(port=5000)"
      ],
      "metadata": {
        "id": "MaccQ-r987Yh"
      },
      "execution_count": null,
      "outputs": []
    },
    {
      "cell_type": "markdown",
      "source": [
        "添加任務"
      ],
      "metadata": {
        "id": "_k7OQLrUGVi5"
      }
    },
    {
      "cell_type": "code",
      "source": [
        "from flask import Flask, request, abort\n",
        "from linebot import LineBotApi, WebhookHandler\n",
        "from linebot.exceptions import InvalidSignatureError\n",
        "from linebot.models import MessageEvent, TextMessage, TextSendMessage\n",
        "from pyngrok import ngrok\n",
        "\n",
        "# 建立 Flask 應用程式\n",
        "app = Flask(__name__)\n",
        "\n",
        "# 設置你的 Channel Access Token 和 Channel Secret\n",
        "CHANNEL_ACCESS_TOKEN = '你的 Channel Access Token'\n",
        "CHANNEL_SECRET = '你的 Channel Secret'\n",
        "\n",
        "line_bot_api = LineBotApi(CHANNEL_ACCESS_TOKEN)\n",
        "handler = WebhookHandler(CHANNEL_SECRET)\n",
        "\n",
        "# 模擬的用戶狀態和任務列表（一般在多用戶情況下會用資料庫）\n",
        "user_states = {}  # 儲存每位用戶的操作狀態\n",
        "task_list = []  # 任務列表\n",
        "\n",
        "# 設置 Webhook 處理函數\n",
        "@app.route(\"/callback\", methods=['POST'])\n",
        "def callback():\n",
        "    signature = request.headers['X-Line-Signature']\n",
        "    body = request.get_data(as_text=True)\n",
        "    app.logger.info(\"Request body: \" + body)\n",
        "\n",
        "    try:\n",
        "        handler.handle(body, signature)\n",
        "    except InvalidSignatureError:\n",
        "        abort(400)\n",
        "\n",
        "    return 'OK'\n",
        "\n",
        "# 設置接收訊息的事件\n",
        "@handler.add(MessageEvent, message=TextMessage)\n",
        "def handle_message(event):\n",
        "    user_id = event.source.user_id\n",
        "    user_message = event.message.text\n",
        "\n",
        "    # 如果用戶訊息是「添加任務」\n",
        "    if user_message == \"添加任務\":\n",
        "        user_states[user_id] = \"adding_task\"\n",
        "        task_str = \"\\n\".join(task_list) if task_list else \"目前沒有任務。\"\n",
        "        reply_message = f\"現在的任務列表：\\n{task_str}\\n\\n請輸入您想要添加的任務。\"\n",
        "        line_bot_api.reply_message(event.reply_token, TextSendMessage(text=reply_message))\n",
        "\n",
        "    # 如果用戶在添加任務模式中\n",
        "    elif user_states.get(user_id) == \"adding_task\":\n",
        "        # 添加新任務到列表\n",
        "        task_list.append(user_message)\n",
        "        user_states[user_id] = None  # 清除狀態\n",
        "        task_str = \"\\n\".join(task_list)\n",
        "        reply_message = f\"任務已添加成功！\\n\\n目前的任務列表：\\n{task_str}\"\n",
        "        line_bot_api.reply_message(event.reply_token, TextSendMessage(text=reply_message))\n",
        "\n",
        "    else:\n",
        "        # 回覆一般訊息\n",
        "        line_bot_api.reply_message(event.reply_token, TextSendMessage(text=\"請輸入有效指令，例如「添加任務」。\"))\n",
        "\n",
        "if __name__ == \"__main__\":\n",
        "    app.run(port=5000)"
      ],
      "metadata": {
        "id": "XRK5kpZb9BBh"
      },
      "execution_count": null,
      "outputs": []
    },
    {
      "cell_type": "markdown",
      "source": [
        "回復貼圖"
      ],
      "metadata": {
        "id": "A0NXr9EzG9ZW"
      }
    },
    {
      "cell_type": "code",
      "source": [
        "from flask import Flask, request, abort\n",
        "from linebot import LineBotApi, WebhookHandler\n",
        "from linebot.exceptions import InvalidSignatureError\n",
        "from linebot.models import MessageEvent, TextMessage, TextSendMessage, StickerSendMessage\n",
        "from pyngrok import ngrok\n",
        "\n",
        "# 建立 Flask 應用程式\n",
        "app = Flask(__name__)\n",
        "\n",
        "# 設置你的 Channel Access Token 和 Channel Secret\n",
        "CHANNEL_ACCESS_TOKEN = '你的 Channel Access Token'\n",
        "CHANNEL_SECRET = '你的 Channel Secret'\n",
        "\n",
        "line_bot_api = LineBotApi(CHANNEL_ACCESS_TOKEN)\n",
        "handler = WebhookHandler(CHANNEL_SECRET)\n",
        "\n",
        "# 設置 Webhook 處理函數\n",
        "@app.route(\"/callback\", methods=['POST'])\n",
        "def callback():\n",
        "    signature = request.headers['X-Line-Signature']\n",
        "    body = request.get_data(as_text=True)\n",
        "    app.logger.info(\"Request body: \" + body)\n",
        "\n",
        "    try:\n",
        "        handler.handle(body, signature)\n",
        "    except InvalidSignatureError:\n",
        "        abort(400)\n",
        "\n",
        "    return 'OK'\n",
        "\n",
        "# 設置接收訊息的事件\n",
        "@handler.add(MessageEvent, message=TextMessage)\n",
        "def handle_message(event):\n",
        "    user_message = event.message.text\n",
        "\n",
        "    if user_message == \"傳送貼圖\":\n",
        "        # 傳送貼圖 (使用貼圖包 ID 1 和貼圖 ID 1)\n",
        "        sticker_message = StickerSendMessage(\n",
        "            package_id='1',\n",
        "            sticker_id='1'\n",
        "        )\n",
        "        line_bot_api.reply_message(event.reply_token, sticker_message)\n",
        "\n",
        "    elif user_message == \"傳送文字和貼圖\":\n",
        "        # 傳送文字和貼圖\n",
        "        text_message = TextSendMessage(text=\"這是一個貼圖\")\n",
        "        sticker_message = StickerSendMessage(\n",
        "            package_id='1',\n",
        "            sticker_id='2'\n",
        "        )\n",
        "        line_bot_api.reply_message(event.reply_token, [text_message, sticker_message])\n",
        "\n",
        "    else:\n",
        "        # 回覆一般訊息\n",
        "        line_bot_api.reply_message(event.reply_token, TextSendMessage(text=\"請輸入有效指令，例如「傳送貼圖」。\"))\n",
        "\n",
        "if __name__ == \"__main__\":\n",
        "    app.run(port=5000)"
      ],
      "metadata": {
        "id": "-4OlwtKp9BYF"
      },
      "execution_count": null,
      "outputs": []
    },
    {
      "cell_type": "markdown",
      "source": [
        "Buttons Template **可以顯示一張圖片、標題、描述文字和多個按鈕選項。**"
      ],
      "metadata": {
        "id": "wDNIPLoyHORZ"
      }
    },
    {
      "cell_type": "code",
      "source": [
        "'''\n",
        "from linebot.models import TemplateSendMessage, ButtonsTemplate, MessageAction, URIAction\n",
        "\n",
        "template_message = TemplateSendMessage(\n",
        "    alt_text='這是按鈕模板訊息',\n",
        "    template=ButtonsTemplate(\n",
        "        thumbnail_image_url='https://example.com/image.jpg',  # 可選的圖片 URL\n",
        "        title='請選擇',\n",
        "        text='請從以下選項中選擇：',\n",
        "        actions=[\n",
        "            MessageAction(label=\"選項1\", text=\"你選擇了選項1\"),\n",
        "            MessageAction(label=\"選項2\", text=\"你選擇了選項2\"),\n",
        "            URIAction(label=\"查看網站\", uri=\"https://example.com\")\n",
        "        ]\n",
        "    )\n",
        ")\n",
        "line_bot_api.reply_message(event.reply_token, template_message)\n",
        "'''"
      ],
      "metadata": {
        "id": "qUpfKWciHQ53"
      },
      "execution_count": null,
      "outputs": []
    },
    {
      "cell_type": "markdown",
      "source": [
        "Confirm Template **提供兩個按鈕，適合用於簡單的確認，如「是/否」或「接受/拒絕」選項。**"
      ],
      "metadata": {
        "id": "imU9zXVWHjCe"
      }
    },
    {
      "cell_type": "code",
      "source": [
        "'''\n",
        "from linebot.models import TemplateSendMessage, ConfirmTemplate, MessageAction\n",
        "\n",
        "template_message = TemplateSendMessage(\n",
        "    alt_text='這是確認模板訊息',\n",
        "    template=ConfirmTemplate(\n",
        "        text='您確定要繼續嗎？',\n",
        "        actions=[\n",
        "            MessageAction(label=\"是\", text=\"是\"),\n",
        "            MessageAction(label=\"否\", text=\"否\")\n",
        "        ]\n",
        "    )\n",
        ")\n",
        "line_bot_api.reply_message(event.reply_token, template_message)\n",
        "\n",
        "'''"
      ],
      "metadata": {
        "id": "-Cnx_8fPHmLi"
      },
      "execution_count": null,
      "outputs": []
    },
    {
      "cell_type": "markdown",
      "source": [
        "Carousel Template **可以顯示多個項目，每個項目都有標題、描述和按鈕選項，適合展示多個選擇項目。**"
      ],
      "metadata": {
        "id": "BF3u8PezHpGw"
      }
    },
    {
      "cell_type": "code",
      "source": [
        "'''\n",
        "from linebot.models import TemplateSendMessage, CarouselTemplate, CarouselColumn, MessageAction, URIAction\n",
        "\n",
        "template_message = TemplateSendMessage(\n",
        "    alt_text='這是旋轉木馬模板訊息',\n",
        "    template=CarouselTemplate(\n",
        "        columns=[\n",
        "            CarouselColumn(\n",
        "                thumbnail_image_url='https://example.com/image1.jpg',\n",
        "                title='項目1',\n",
        "                text='這是項目1的描述',\n",
        "                actions=[\n",
        "                    MessageAction(label=\"選項1\", text=\"你選擇了項目1的選項1\"),\n",
        "                    URIAction(label=\"查看項目1\", uri=\"https://example.com/1\")\n",
        "                ]\n",
        "            ),\n",
        "            CarouselColumn(\n",
        "                thumbnail_image_url='https://example.com/image2.jpg',\n",
        "                title='項目2',\n",
        "                text='這是項目2的描述',\n",
        "                actions=[\n",
        "                    MessageAction(label=\"選項2\", text=\"你選擇了項目2的選項2\"),\n",
        "                    URIAction(label=\"查看項目2\", uri=\"https://example.com/2\")\n",
        "                ]\n",
        "            )\n",
        "        ]\n",
        "    )\n",
        ")\n",
        "line_bot_api.reply_message(event.reply_token, template_message)\n",
        "\n",
        "'''"
      ],
      "metadata": {
        "id": "mQ8Zd4uZHr5g"
      },
      "execution_count": null,
      "outputs": []
    },
    {
      "cell_type": "markdown",
      "source": [
        "Image Carousel Template **是一種旋轉木馬模板，每張圖片都可以有一個按鈕，適合用來展示多張圖片，每張圖片下面都有相應的按鈕。**"
      ],
      "metadata": {
        "id": "QaETH7b2Hyax"
      }
    },
    {
      "cell_type": "code",
      "source": [
        "'''\n",
        "from linebot.models import TemplateSendMessage, ImageCarouselTemplate, ImageCarouselColumn, URIAction, MessageAction\n",
        "\n",
        "template_message = TemplateSendMessage(\n",
        "    alt_text='這是圖片旋轉木馬模板訊息',\n",
        "    template=ImageCarouselTemplate(\n",
        "        columns=[\n",
        "            ImageCarouselColumn(\n",
        "                image_url='https://example.com/image1.jpg',\n",
        "                action=MessageAction(label=\"點擊圖片1\", text=\"你點擊了圖片1\")\n",
        "            ),\n",
        "            ImageCarouselColumn(\n",
        "                image_url='https://example.com/image2.jpg',\n",
        "                action=URIAction(label=\"查看圖片2\", uri=\"https://example.com/2\")\n",
        "            )\n",
        "        ]\n",
        "    )\n",
        ")\n",
        "line_bot_api.reply_message(event.reply_token, template_message)\n",
        "\n",
        "'''"
      ],
      "metadata": {
        "id": "ROZ5gDVTH1cg"
      },
      "execution_count": null,
      "outputs": []
    },
    {
      "cell_type": "markdown",
      "source": [
        "貼圖範例"
      ],
      "metadata": {
        "id": "JvlyoqouITdy"
      }
    },
    {
      "cell_type": "code",
      "source": [
        "'''\n",
        "from linebot.models import StickerSendMessage\n",
        "\n",
        "def reply_with_sticker(event, emotion):\n",
        "    if emotion == \"happy\":\n",
        "        sticker_message = StickerSendMessage(package_id='1', sticker_id='13')  # 開心的貼圖\n",
        "    elif emotion == \"sad\":\n",
        "        sticker_message = StickerSendMessage(package_id='1', sticker_id='9')   # 傷心的貼圖\n",
        "    else:\n",
        "        sticker_message = StickerSendMessage(package_id='1', sticker_id='1')   # 通用的貼圖\n",
        "\n",
        "    line_bot_api.reply_message(event.reply_token, sticker_message)\n",
        "\n",
        "# 使用範例\n",
        "reply_with_sticker(event, \"happy\")\n",
        "\n",
        "'''"
      ],
      "metadata": {
        "id": "gW3lSzv9IT2i"
      },
      "execution_count": null,
      "outputs": []
    },
    {
      "cell_type": "markdown",
      "source": [
        "Emoji (可以直接加在文字中)  index(位置)"
      ],
      "metadata": {
        "id": "UpbFFdY-IZND"
      }
    },
    {
      "cell_type": "code",
      "source": [
        "'''\n",
        "from linebot.models import TextSendMessage, Emoji\n",
        "\n",
        "# 動態生成多個 Emoji\n",
        "emojis_list = [\n",
        "    Emoji(index=6, product_id=\"5ac1bfd5040ab15980c9b435\", emoji_id=\"001\"),  # 笑臉\n",
        "    Emoji(index=15, product_id=\"5ac1bfd5040ab15980c9b435\", emoji_id=\"002\")  # 愛心\n",
        "]\n",
        "\n",
        "message = TextSendMessage(\n",
        "    text=\"這是動態生成的多個 emoji 訊息。\",\n",
        "    emojis=emojis_list\n",
        ")\n",
        "line_bot_api.reply_message(event.reply_token, message)\n",
        "'''"
      ],
      "metadata": {
        "id": "AV0NFR6uIYqU"
      },
      "execution_count": null,
      "outputs": []
    },
    {
      "cell_type": "code",
      "source": [
        "'''\n",
        "from linebot.models import TextSendMessage, Emoji\n",
        "\n",
        "def create_emoji_message(user_text):\n",
        "    # 動態生成 emoji 列表\n",
        "    emojis_list = []\n",
        "    index = user_text.find(\"特定關鍵詞\") + 4  # 假設在特定關鍵詞後插入 emoji\n",
        "    if index != -1:\n",
        "        emojis_list.append(Emoji(index=index, product_id=\"5ac1bfd5040ab15980c9b435\", emoji_id=\"001\"))  # 笑臉\n",
        "\n",
        "    # 傳送包含動態 emoji 的訊息\n",
        "    message = TextSendMessage(text=user_text, emojis=emojis_list)\n",
        "    return message\n",
        "\n",
        "# 使用範例\n",
        "message = create_emoji_message(\"Hello 特定關鍵詞!\")\n",
        "line_bot_api.reply_message(event.reply_token, message)\n",
        "\n",
        "'''"
      ],
      "metadata": {
        "id": "P8X2a_OvJ6-H"
      },
      "execution_count": null,
      "outputs": []
    }
  ]
}